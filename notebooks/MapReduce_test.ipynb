{
 "cells": [
  {
   "cell_type": "code",
   "execution_count": 1,
   "metadata": {},
   "outputs": [],
   "source": [
    "import os\n",
    "import sys\n",
    "import json\n",
    "import shutil\n",
    "from multiprocessing import Process"
   ]
  },
  {
   "cell_type": "code",
   "execution_count": 2,
   "metadata": {},
   "outputs": [],
   "source": [
    "col_key = 'UF'\n",
    "col_value = 'VALOR PARCELA'\n",
    "sep = ';'\n",
    "path = f'{dir}data/202101_BolsaFamilia_Pagamentos.csv'\n",
    "chunk_size = 100000"
   ]
  },
  {
   "cell_type": "code",
   "execution_count": 3,
   "metadata": {},
   "outputs": [],
   "source": [
    "dir = os.path.dirname(os.getcwd()) + '/'\n",
    "sys.path.append(dir)"
   ]
  },
  {
   "cell_type": "code",
   "execution_count": 4,
   "metadata": {},
   "outputs": [],
   "source": [
    "if not os.path.exists(f'{dir}data/202101_BolsaFamilia_Pagamentos.csv'):\n",
    "    raise FileNotFoundError('Could not find the BolsFamilia csv, needs to be download from https://portaldatransparencia.gov.br/download-de-dados/bolsa-familia-pagamentos')"
   ]
  },
  {
   "cell_type": "code",
   "execution_count": null,
   "metadata": {},
   "outputs": [],
   "source": [
    "from src.utils import reader,mappers"
   ]
  },
  {
   "cell_type": "code",
   "execution_count": null,
   "metadata": {},
   "outputs": [],
   "source": [
    "csv, index_col_key, index_col_value = reader.csv(path,col_key,col_value,sep=sep)"
   ]
  },
  {
   "cell_type": "code",
   "execution_count": null,
   "metadata": {},
   "outputs": [],
   "source": [
    "number_mappers = int(len(csv)/1000000)\n",
    "number_mappers += 1 if len(csv)%1000000 != 0 else 0"
   ]
  },
  {
   "cell_type": "code",
   "execution_count": null,
   "metadata": {},
   "outputs": [],
   "source": [
    "os.mkdir('temp')\n",
    "list_mappers = []\n",
    "for i_mapper in range(number_mappers):\n",
    "    if i_mapper == 0:\n",
    "        list_mappers.append(Process(target=mappers.run,args=(csv[0:chunk_size],index_col_key,index_col_value,i_mapper)))\n",
    "    elif i_mapper == number_mappers-1:\n",
    "        list_mappers.append(Process(target=mappers.run,args=(csv[chunk_size*i_mapper:len(csv)],index_col_key,index_col_value,i_mapper)))\n",
    "    else:\n",
    "        list_mappers.append(Process(target=mappers.run,args=(csv[chunk_size*i_mapper:chunk_size*(i_mapper+1)],index_col_key,index_col_value,i_mapper)))\n",
    "\n",
    "for mapper in list_mappers:\n",
    "    mapper.start()\n",
    "\n",
    "for mapper in list_mappers:\n",
    "    mapper.join()"
   ]
  },
  {
   "cell_type": "code",
   "execution_count": null,
   "metadata": {},
   "outputs": [],
   "source": [
    "list_json_files = os.listdir('temp')\n",
    "aggreagate_date = {}\n",
    "for file in list_json_files:\n",
    "    temp_data = json.loads(open(f'temp/{file}','r').read())\n",
    "\n",
    "    keys = set(aggreagate_date.keys()).union(temp_data.keys())\n",
    "    aggreagate_date = {key: aggreagate_date.get(key, 0) + temp_data.get(key, 0) for key in keys}"
   ]
  },
  {
   "cell_type": "code",
   "execution_count": null,
   "metadata": {},
   "outputs": [],
   "source": [
    "aggreagate_date = {key: aggreagate_date[key] for key in sorted(aggreagate_date)}"
   ]
  },
  {
   "cell_type": "code",
   "execution_count": null,
   "metadata": {},
   "outputs": [],
   "source": [
    "shutil.rmtree('temp')"
   ]
  },
  {
   "cell_type": "code",
   "execution_count": null,
   "metadata": {},
   "outputs": [],
   "source": [
    "with open(f'{dir}data/aggregate_data.json','w') as output_file:\n",
    "    json.dump(aggreagate_date,output_file)"
   ]
  }
 ],
 "metadata": {
  "kernelspec": {
   "display_name": ".env",
   "language": "python",
   "name": "python3"
  },
  "language_info": {
   "codemirror_mode": {
    "name": "ipython",
    "version": 3
   },
   "file_extension": ".py",
   "mimetype": "text/x-python",
   "name": "python",
   "nbconvert_exporter": "python",
   "pygments_lexer": "ipython3",
   "version": "3.12.3"
  }
 },
 "nbformat": 4,
 "nbformat_minor": 2
}
