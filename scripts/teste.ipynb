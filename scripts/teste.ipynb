{
 "cells": [
  {
   "cell_type": "code",
   "execution_count": null,
   "metadata": {},
   "outputs": [],
   "source": [
    "import os\n",
    "import sys\n",
    "import shutil\n",
    "from multiprocessing import Process"
   ]
  },
  {
   "cell_type": "code",
   "execution_count": null,
   "metadata": {},
   "outputs": [],
   "source": [
    "path = '../data/202106_BolsaFamilia_Pagamentos.csv'\n",
    "col_key = 'UF'\n",
    "col_value = 'VALOR PARCELA'\n",
    "sep = ';'"
   ]
  },
  {
   "cell_type": "code",
   "execution_count": null,
   "metadata": {},
   "outputs": [],
   "source": [
    "dir = os.path.dirname(os.getcwd()) + '/'\n",
    "sys.path.append(dir)"
   ]
  },
  {
   "cell_type": "code",
   "execution_count": null,
   "metadata": {},
   "outputs": [],
   "source": [
    "from utils import reader,mappers"
   ]
  },
  {
   "cell_type": "code",
   "execution_count": null,
   "metadata": {},
   "outputs": [],
   "source": [
    "csv, index_col_key, index_col_value = reader.csv(path=f'{dir}data/202106_BolsaFamilia_Pagamentos.csv',col_key='UF',col_value='VALOR PARCELA',sep=';')"
   ]
  },
  {
   "cell_type": "code",
   "execution_count": null,
   "metadata": {},
   "outputs": [],
   "source": [
    "number_mappers = int(len(csv)/1000000)\n",
    "number_mappers += 1 if len(csv)%1000000 != 0 else 0\n",
    "\n",
    "million = 1000000"
   ]
  },
  {
   "cell_type": "code",
   "execution_count": null,
   "metadata": {},
   "outputs": [],
   "source": [
    "os.mkdir('temp')\n",
    "list_mappers = []\n",
    "for i_mapper in range(number_mappers):\n",
    "    if i_mapper == 0:\n",
    "        list_mappers.append(Process(target=mappers.run,args=(csv[0:million],index_col_key,index_col_value,i_mapper)))\n",
    "        print(0,\":\",million)\n",
    "    elif i_mapper == number_mappers-1:\n",
    "        list_mappers.append(Process(target=mappers.run,args=(csv[million*i_mapper:len(csv)],index_col_key,index_col_value,i_mapper)))\n",
    "        print(million*i_mapper,\":\",len(csv))\n",
    "    else:\n",
    "        list_mappers.append(Process(target=mappers.run,args=(csv[million*i_mapper:million*(i_mapper+1)],index_col_key,index_col_value,i_mapper)))\n",
    "        print(million*i_mapper,\":\",million*(i_mapper+1))\n",
    "\n",
    "for mapper in list_mappers:\n",
    "    mapper.start()\n",
    "\n",
    "for mapper in list_mappers:\n",
    "    mapper.join()"
   ]
  },
  {
   "cell_type": "code",
   "execution_count": null,
   "metadata": {},
   "outputs": [],
   "source": [
    "shutil.rmtree('temp')"
   ]
  }
 ],
 "metadata": {
  "kernelspec": {
   "display_name": ".env",
   "language": "python",
   "name": "python3"
  },
  "language_info": {
   "codemirror_mode": {
    "name": "ipython",
    "version": 3
   },
   "file_extension": ".py",
   "mimetype": "text/x-python",
   "name": "python",
   "nbconvert_exporter": "python",
   "pygments_lexer": "ipython3",
   "version": "3.12.3"
  }
 },
 "nbformat": 4,
 "nbformat_minor": 2
}
